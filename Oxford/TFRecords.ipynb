{
 "cells": [
  {
   "cell_type": "markdown",
   "metadata": {},
   "source": [
    "## TFRecoreds\n",
    "- 텐서플로우의 학습 데이타 등을 저장하기 위한 바이너리 데이타 포맷\n",
    "- 구글의 Protocol Buffer 포맷으로 데이타를 파일에 Serialize 하여 저장\n",
    "- 이미지파일\n",
    "  - 이미지는 JPEG나 PNG 형태의 파일로 저장\n",
    "  - 메타 데이타와 라벨은 별도의 파일에 저장\n",
    "  - 학습 데이타를 읽을때 이미지 파일과 메타데이터를 별도로 처리해야 하므로 코드가 복잡하며, 성능 저하 발생\n",
    "- tf.Example 클래스를 이용해서 {“string” : “tf.train.Feature”} 형태로 데이터를 TFRecords 파일에 저장\n",
    "\n",
    "## 메세지 타입\n",
    "- tf.train.BytesList – string, byte값으로부터 mapping\n",
    "- tf.train.FloatList –  float (float32), double (float64) 값으로부터 mapping\n",
    "- tf.train.Int64List – bool, enum, int32, uint32, int64, uint64 값으로부터 mapping"
   ]
  },
  {
   "cell_type": "code",
   "execution_count": 7,
   "metadata": {},
   "outputs": [],
   "source": [
    "# value를 tf.Example에 대응되는 형태로 변환하기 위한 함수들\n",
    "def _bytes_feature(value):\n",
    "  \"\"\"string / byte 타입을 받아서 byte list를 리턴합니다.\"\"\"\n",
    "  # isinstance(a, b) a가 b타입인지 여부 boolen값 출력\n",
    "  if isinstance(value, type(tf.constant(0))):\n",
    "    value = value.numpy() # BytesList won't unpack a string from an EagerTensor.\n",
    "  return tf.train.Feature(bytes_list=tf.train.BytesList(value=[value]))\n",
    "\n",
    "def _float_feature(value):\n",
    "  \"\"\"float / double 타입을 받아서 float list를 리턴합니다.\"\"\"\n",
    "  return tf.train.Feature(float_list=tf.train.FloatList(value=[value]))\n",
    "\n",
    "def _int64_feature(value):\n",
    "  \"\"\"bool / enum / int / uint 타입을 받아서 int64 list를 리턴합니다.\"\"\"\n",
    "  return tf.train.Feature(int64_list=tf.train.Int64List(value=[value]))"
   ]
  },
  {
   "cell_type": "code",
   "execution_count": 21,
   "metadata": {},
   "outputs": [
    {
     "name": "stdout",
     "output_type": "stream",
     "text": [
      "bytes_list {\n",
      "  value: \"test_string\"\n",
      "}\n",
      "\n",
      "bytes_list {\n",
      "  value: \"test_bytes\"\n",
      "}\n",
      "\n"
     ]
    }
   ],
   "source": [
    "print(_bytes_feature(b'test_string'))\n",
    "# '''\n",
    "# bytes_list {\n",
    "#   value: \"test_string\"\n",
    "# }\n",
    "# '''\n",
    "print(_bytes_feature(u'test_bytes'.encode('utf-8')))\n",
    "# '''\n",
    "# bytes_list {\n",
    "#   value: \"test_bytes\"\n",
    "# }\n",
    "# '''"
   ]
  },
  {
   "cell_type": "code",
   "execution_count": 22,
   "metadata": {},
   "outputs": [
    {
     "name": "stdout",
     "output_type": "stream",
     "text": [
      "float_list {\n",
      "  value: 2.7182817459106445\n",
      "}\n",
      "\n"
     ]
    }
   ],
   "source": [
    "print(_float_feature(np.exp(1)))\n",
    "# '''\n",
    "# float_list {\n",
    "#   value: 2.71828174591\n",
    "# }\n",
    "# '''"
   ]
  },
  {
   "cell_type": "code",
   "execution_count": 23,
   "metadata": {},
   "outputs": [
    {
     "name": "stdout",
     "output_type": "stream",
     "text": [
      "int64_list {\n",
      "  value: 1\n",
      "}\n",
      "\n",
      "int64_list {\n",
      "  value: 1\n",
      "}\n",
      "\n"
     ]
    }
   ],
   "source": [
    "print(_int64_feature(True))\n",
    "# '''\n",
    "# int64_list {\n",
    "#   value: 1\n",
    "# }\n",
    "# '''\n",
    "print(_int64_feature(1))\n",
    "# '''\n",
    "# int64_list {\n",
    "#   value: 1\n",
    "# }\n",
    "# '''"
   ]
  },
  {
   "cell_type": "code",
   "execution_count": 24,
   "metadata": {},
   "outputs": [
    {
     "name": "stdout",
     "output_type": "stream",
     "text": [
      "bytes_list {\n",
      "  value: \"test_string\"\n",
      "}\n",
      "\n",
      "bytes_list {\n",
      "  value: \"test_bytes\"\n",
      "}\n",
      "\n"
     ]
    }
   ],
   "source": [
    "def _bytes_feature(value):\n",
    "  \"\"\"Returns a bytes_list from a string / byte.\"\"\"\n",
    "  if isinstance(value, type(tf.constant(0))):\n",
    "    value = value.numpy() # BytesList won't unpack a string from an EagerTensor.\n",
    "  return tf.train.Feature(bytes_list=tf.train.BytesList(value=[value]))\n",
    "\n",
    "\n",
    "print(_bytes_feature(b'test_string'))\n",
    "# '''\n",
    "# bytes_list {\n",
    "#   value: \"test_string\"\n",
    "# }\n",
    "# '''\n",
    "print(_bytes_feature(u'test_bytes'.encode('utf-8')))\n",
    "# '''\n",
    "# bytes_list {\n",
    "#   value: \"test_bytes\"\n",
    "# }\n",
    "# '''"
   ]
  }
 ],
 "metadata": {
  "interpreter": {
   "hash": "9652531e86fbc99dfe7fc5092eb81081a97fad237de3d1fd3b3a0d1c69c61538"
  },
  "kernelspec": {
   "display_name": "Python 3.9.7 64-bit ('ox': conda)",
   "language": "python",
   "name": "python3"
  },
  "language_info": {
   "codemirror_mode": {
    "name": "ipython",
    "version": 3
   },
   "file_extension": ".py",
   "mimetype": "text/x-python",
   "name": "python",
   "nbconvert_exporter": "python",
   "pygments_lexer": "ipython3",
   "version": "3.9.7"
  },
  "orig_nbformat": 4
 },
 "nbformat": 4,
 "nbformat_minor": 2
}
